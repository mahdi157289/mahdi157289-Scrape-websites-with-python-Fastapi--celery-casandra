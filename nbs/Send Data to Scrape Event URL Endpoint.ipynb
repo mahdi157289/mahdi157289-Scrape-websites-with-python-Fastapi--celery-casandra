{
 "cells": [
  {
   "cell_type": "code",
   "execution_count": 1,
   "id": "38fa3317-a7e5-4006-baba-a20b48d8faf8",
   "metadata": {},
   "outputs": [],
   "source": [
    "import requests\n"
   ]
  },
  {
   "cell_type": "code",
   "execution_count": 5,
   "id": "8745953f-2690-4abc-9a87-edfdd1db864c",
   "metadata": {
    "scrolled": true
   },
   "outputs": [
    {
     "name": "stdout",
     "output_type": "stream",
     "text": [
      "3\n"
     ]
    }
   ],
   "source": [
    "endpoint = \"http://127.0.0.1:8000/events/scrape\"\n",
    "asin = \"http_test\"\n",
    "r = requests.post(endpoint, json={\"asin\": \"asin\" , \"title\":\"abc123\" , \"Price_str\": \"$99\"})\n",
    "print(len(r.json()))"
   ]
  },
  {
   "cell_type": "code",
   "execution_count": 3,
   "id": "20d1b17e-0b78-47a0-aa99-b9285ab5b249",
   "metadata": {},
   "outputs": [
    {
     "name": "stdout",
     "output_type": "stream",
     "text": [
      "[{'asin': 'http_test', 'title': 'abc123', 'created': 1745307461.982727}]\n"
     ]
    }
   ],
   "source": [
    "\n",
    "endpoint2 = f\"http://127.0.0.1:8000/products/{asin}/events\"\n",
    "r2 = requests.get(endpoint2)\n",
    "print(r2.json())"
   ]
  },
  {
   "cell_type": "code",
   "execution_count": 4,
   "id": "96433deb-08a9-4852-a5cd-b6d7b34decf1",
   "metadata": {},
   "outputs": [
    {
     "name": "stdout",
     "output_type": "stream",
     "text": [
      "{'asin': 'asin', 'title': 'abc123', 'Price_str': '$99'}\n"
     ]
    }
   ],
   "source": [
    "base_url = \"https://1782-197-238-76-50.ngrok-free.app/\"\n",
    "path = \"/events/scrape\"\n",
    "endpoint = f\"{base_url}{path}\"\n",
    "r = requests.post(endpoint, json={\"asin\": \"asin\" , \"title\":\"abc123\" , \"Price_str\": \"$99\"})\n",
    "print(r.json())"
   ]
  }
 ],
 "metadata": {
  "kernelspec": {
   "display_name": "Python 3 (ipykernel)",
   "language": "python",
   "name": "python3"
  },
  "language_info": {
   "codemirror_mode": {
    "name": "ipython",
    "version": 3
   },
   "file_extension": ".py",
   "mimetype": "text/x-python",
   "name": "python",
   "nbconvert_exporter": "python",
   "pygments_lexer": "ipython3",
   "version": "3.9.0"
  }
 },
 "nbformat": 4,
 "nbformat_minor": 5
}
