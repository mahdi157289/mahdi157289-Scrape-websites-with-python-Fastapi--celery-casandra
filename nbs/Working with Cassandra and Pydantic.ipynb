{
 "cells": [
  {
   "cell_type": "code",
   "execution_count": 1,
   "id": "a15462ce-0d16-44fe-820a-427557f03a04",
   "metadata": {},
   "outputs": [
    {
     "name": "stdout",
     "output_type": "stream",
     "text": [
      "Requirement already satisfied: pickleshare in c:\\users\\bacca\\desktop\\scrape-websites-with-python-fastapi-celery-nosql\\v\\lib\\site-packages (0.7.5)\n",
      "Requirement already satisfied: pip in c:\\users\\bacca\\desktop\\scrape-websites-with-python-fastapi-celery-nosql\\v\\lib\\site-packages (25.0.1)\n"
     ]
    }
   ],
   "source": [
    "!pip install pickleshare\n",
    "!pip install --upgrade pip"
   ]
  },
  {
   "cell_type": "code",
   "execution_count": 11,
   "id": "973dc9ee-faad-491e-a1ad-42a044ac7f01",
   "metadata": {},
   "outputs": [
    {
     "name": "stdout",
     "output_type": "stream",
     "text": [
      "C:\\Users\\bacca\\Desktop\\Scrape-Websites-with-Python-FastAPI-Celery-NoSQL\n",
      "C:\\Users\\bacca\\Desktop\\Scrape-Websites-with-Python-FastAPI-Celery-NoSQL\n"
     ]
    }
   ],
   "source": [
    "!cd\n",
    "%cd /Users/bacca/Desktop/Scrape-Websites-with-Python-FastAPI-Celery-NoSQL/\n",
    "\n",
    "from app import db,crud, models , schema\n",
    "session = db.get_session()\n",
    "data = models.data\n",
    "data = {'asin': 'TESTING123D', 'title': 'Mark ladsf', 'abc123': 'nothing'}"
   ]
  },
  {
   "cell_type": "code",
   "execution_count": 22,
   "id": "65b292b7-28de-4942-9ea2-b9f6caeec9f4",
   "metadata": {},
   "outputs": [],
   "source": [
    "from pydantic import BaseModel\n"
   ]
  },
  {
   "cell_type": "code",
   "execution_count": 23,
   "id": "6a09143a-c4fa-4b69-92bd-4acaafbe21d3",
   "metadata": {},
   "outputs": [],
   "source": [
    "from pydantic import BaseModel\n",
    "class ProductBaseModel(BaseModel):\n",
    "    asin: str\n",
    "    title: str\n",
    "  "
   ]
  },
  {
   "cell_type": "code",
   "execution_count": 24,
   "id": "df1b7cbd-aecb-4032-92ef-d7cfa5a7717f",
   "metadata": {},
   "outputs": [
    {
     "name": "stderr",
     "output_type": "stream",
     "text": [
      "C:\\Users\\bacca\\AppData\\Local\\Temp\\ipykernel_20284\\2852585928.py:2: PydanticDeprecatedSince20: The `dict` method is deprecated; use `model_dump` instead. Deprecated in Pydantic V2.0 to be removed in V3.0. See Pydantic V2 Migration Guide at https://errors.pydantic.dev/2.11/migration/\n",
      "  product.dict()\n"
     ]
    },
    {
     "data": {
      "text/plain": [
       "{'asin': 'TESTING123D', 'title': 'Mark ladsf'}"
      ]
     },
     "execution_count": 24,
     "metadata": {},
     "output_type": "execute_result"
    }
   ],
   "source": [
    "product = ProductBaseModel(**data)\n",
    "product.dict()"
   ]
  },
  {
   "cell_type": "code",
   "execution_count": 25,
   "id": "708ded16-f672-47c5-97f6-3db542479960",
   "metadata": {},
   "outputs": [
    {
     "name": "stderr",
     "output_type": "stream",
     "text": [
      "C:\\Users\\bacca\\AppData\\Local\\Temp\\ipykernel_20284\\2022582070.py:1: PydanticDeprecatedSince20: The `dict` method is deprecated; use `model_dump` instead. Deprecated in Pydantic V2.0 to be removed in V3.0. See Pydantic V2 Migration Guide at https://errors.pydantic.dev/2.11/migration/\n",
      "  crud.add_scrape_event(product.dict(),fresh=True)\n"
     ]
    },
    {
     "data": {
      "text/plain": [
       "(Product(asin='TESTING123D', title='Mark ladsf', Price_str='-100'),\n",
       " ProductScrapeEvent(uuid=UUID('16b17884-1c38-11f0-ace6-c0bfbe833233'), asin='TESTING123D', title='Mark ladsf', Price_str='-100'))"
      ]
     },
     "execution_count": 25,
     "metadata": {},
     "output_type": "execute_result"
    }
   ],
   "source": [
    "crud.add_scrape_event(product.dict(),fresh=True)"
   ]
  },
  {
   "cell_type": "code",
   "execution_count": 26,
   "id": "16cd51d5-9c8d-4382-b804-81fac7b9f8f6",
   "metadata": {},
   "outputs": [],
   "source": [
    "from pydantic import ValidationError\n",
    "\n",
    "try:\n",
    "    schema.ProductScrapeEventSchema(**data)\n",
    "except ValidationError as e:\n",
    "    print(e.json())"
   ]
  }
 ],
 "metadata": {
  "kernelspec": {
   "display_name": "Python 3 (ipykernel)",
   "language": "python",
   "name": "python3"
  },
  "language_info": {
   "codemirror_mode": {
    "name": "ipython",
    "version": 3
   },
   "file_extension": ".py",
   "mimetype": "text/x-python",
   "name": "python",
   "nbconvert_exporter": "python",
   "pygments_lexer": "ipython3",
   "version": "3.9.0"
  }
 },
 "nbformat": 4,
 "nbformat_minor": 5
}
