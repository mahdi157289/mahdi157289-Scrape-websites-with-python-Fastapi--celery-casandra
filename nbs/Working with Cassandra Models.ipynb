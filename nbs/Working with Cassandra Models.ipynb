{
 "cells": [
  {
   "cell_type": "code",
   "execution_count": 1,
   "id": "a15462ce-0d16-44fe-820a-427557f03a04",
   "metadata": {},
   "outputs": [
    {
     "name": "stdout",
     "output_type": "stream",
     "text": [
      "Requirement already satisfied: pickleshare in c:\\users\\bacca\\desktop\\scrape-websites-with-python-fastapi-celery-nosql\\v\\lib\\site-packages (0.7.5)\n",
      "Requirement already satisfied: pip in c:\\users\\bacca\\desktop\\scrape-websites-with-python-fastapi-celery-nosql\\v\\lib\\site-packages (25.0.1)\n"
     ]
    }
   ],
   "source": [
    "!pip install pickleshare\n",
    "!pip install --upgrade pip"
   ]
  },
  {
   "cell_type": "code",
   "execution_count": 2,
   "id": "973dc9ee-faad-491e-a1ad-42a044ac7f01",
   "metadata": {},
   "outputs": [
    {
     "name": "stdout",
     "output_type": "stream",
     "text": [
      "C:\\Users\\bacca\\Desktop\\Scrape-Websites-with-Python-FastAPI-Celery-NoSQL\\nbs\n",
      "C:\\Users\\bacca\\Desktop\\Scrape-Websites-with-Python-FastAPI-Celery-NoSQL\n"
     ]
    },
    {
     "ename": "AttributeError",
     "evalue": "'Settings' object has no attribute 'astra_client_id'",
     "output_type": "error",
     "traceback": [
      "\u001b[1;31m---------------------------------------------------------------------------\u001b[0m",
      "\u001b[1;31mAttributeError\u001b[0m                            Traceback (most recent call last)",
      "Cell \u001b[1;32mIn[2], line 4\u001b[0m\n\u001b[0;32m      1\u001b[0m get_ipython()\u001b[38;5;241m.\u001b[39msystem(\u001b[38;5;124m'\u001b[39m\u001b[38;5;124mcd\u001b[39m\u001b[38;5;124m'\u001b[39m)\n\u001b[0;32m      2\u001b[0m get_ipython()\u001b[38;5;241m.\u001b[39mrun_line_magic(\u001b[38;5;124m'\u001b[39m\u001b[38;5;124mcd\u001b[39m\u001b[38;5;124m'\u001b[39m, \u001b[38;5;124m'\u001b[39m\u001b[38;5;124m/Users/bacca/Desktop/Scrape-Websites-with-Python-FastAPI-Celery-NoSQL/\u001b[39m\u001b[38;5;124m'\u001b[39m)\n\u001b[1;32m----> 4\u001b[0m \u001b[38;5;28;01mfrom\u001b[39;00m\u001b[38;5;250m \u001b[39m\u001b[38;5;21;01mapp\u001b[39;00m\u001b[38;5;250m \u001b[39m\u001b[38;5;28;01mimport\u001b[39;00m db,crud, models\n\u001b[0;32m      5\u001b[0m session \u001b[38;5;241m=\u001b[39m db\u001b[38;5;241m.\u001b[39mget_session()\n\u001b[0;32m      6\u001b[0m data \u001b[38;5;241m=\u001b[39m models\u001b[38;5;241m.\u001b[39mdata\n",
      "File \u001b[1;32m~\\Desktop\\Scrape-Websites-with-Python-FastAPI-Celery-NoSQL\\app\\db.py:16\u001b[0m\n\u001b[0;32m     14\u001b[0m \u001b[38;5;66;03m# load environment variables from .env file\u001b[39;00m\n\u001b[0;32m     15\u001b[0m load_dotenv()\n\u001b[1;32m---> 16\u001b[0m ASTRA_DB_CLIENT_ID \u001b[38;5;241m=\u001b[39m \u001b[43msettings\u001b[49m\u001b[38;5;241;43m.\u001b[39;49m\u001b[43mastra_client_id\u001b[49m\n\u001b[0;32m     17\u001b[0m ASTRA_DB_CLIENT_SECRET \u001b[38;5;241m=\u001b[39m settings\u001b[38;5;241m.\u001b[39mastra_client_secret\n\u001b[0;32m     19\u001b[0m BASE_DIR \u001b[38;5;241m=\u001b[39m pathlib\u001b[38;5;241m.\u001b[39mPath(\u001b[38;5;18m__file__\u001b[39m)\u001b[38;5;241m.\u001b[39mparent\n",
      "File \u001b[1;32mc:\\users\\bacca\\desktop\\scrape-websites-with-python-fastapi-celery-nosql\\v\\lib\\site-packages\\pydantic\\main.py:994\u001b[0m, in \u001b[0;36mBaseModel.__getattr__\u001b[1;34m(self, item)\u001b[0m\n\u001b[0;32m    991\u001b[0m     \u001b[38;5;28;01mreturn\u001b[39;00m \u001b[38;5;28msuper\u001b[39m()\u001b[38;5;241m.\u001b[39m\u001b[38;5;21m__getattribute__\u001b[39m(item)  \u001b[38;5;66;03m# Raises AttributeError if appropriate\u001b[39;00m\n\u001b[0;32m    992\u001b[0m \u001b[38;5;28;01melse\u001b[39;00m:\n\u001b[0;32m    993\u001b[0m     \u001b[38;5;66;03m# this is the current error\u001b[39;00m\n\u001b[1;32m--> 994\u001b[0m     \u001b[38;5;28;01mraise\u001b[39;00m \u001b[38;5;167;01mAttributeError\u001b[39;00m(\u001b[38;5;124mf\u001b[39m\u001b[38;5;124m'\u001b[39m\u001b[38;5;132;01m{\u001b[39;00m\u001b[38;5;28mtype\u001b[39m(\u001b[38;5;28mself\u001b[39m)\u001b[38;5;241m.\u001b[39m\u001b[38;5;18m__name__\u001b[39m\u001b[38;5;132;01m!r}\u001b[39;00m\u001b[38;5;124m object has no attribute \u001b[39m\u001b[38;5;132;01m{\u001b[39;00mitem\u001b[38;5;132;01m!r}\u001b[39;00m\u001b[38;5;124m'\u001b[39m)\n",
      "\u001b[1;31mAttributeError\u001b[0m: 'Settings' object has no attribute 'astra_client_id'"
     ]
    }
   ],
   "source": [
    "!cd\n",
    "%cd /Users/bacca/Desktop/Scrape-Websites-with-Python-FastAPI-Celery-NoSQL/\n",
    "\n",
    "from app import db,crud, models\n",
    "session = db.get_session()\n",
    "data = models.data\n",
    "data"
   ]
  },
  {
   "cell_type": "code",
   "execution_count": null,
   "id": "65b292b7-28de-4942-9ea2-b9f6caeec9f4",
   "metadata": {},
   "outputs": [],
   "source": [
    "crud.add_scrape_event(data,fresh=True)"
   ]
  },
  {
   "cell_type": "code",
   "execution_count": null,
   "id": "785b1444-6675-4a88-b797-d346d7c6ce77",
   "metadata": {},
   "outputs": [],
   "source": [
    "data\n"
   ]
  },
  {
   "cell_type": "code",
   "execution_count": null,
   "id": "95802e26-b139-4627-a188-c5d0b5981b62",
   "metadata": {},
   "outputs": [],
   "source": [
    "print(models.Product.objects().all())"
   ]
  },
  {
   "cell_type": "code",
   "execution_count": null,
   "id": "64be3b61-a5ab-4971-8712-24458c6e186a",
   "metadata": {},
   "outputs": [],
   "source": [
    "asin = \"B00123499t56ty7\"\n",
    "for obj in models.Product.objects().all():\n",
    "    print(obj.asin)\n",
    "    "
   ]
  },
  {
   "cell_type": "code",
   "execution_count": null,
   "id": "db1513f5-87b0-4857-b918-455f693fb4d7",
   "metadata": {},
   "outputs": [],
   "source": [
    "if asin is not None:\n",
    "    print(f\"Scrape events for  {asin}\")\n",
    "    ps  = models.ProductScrapeEvent.objects.filter(asin=asin).allow_filtering()\n",
    "    print(f\"ProductScrapeEvent  {ps}\")\n",
    "    for i,obj in enumerate(ps):\n",
    "        print(i, obj.asin, obj.uuid)"
   ]
  },
  {
   "cell_type": "code",
   "execution_count": null,
   "id": "66a90fc9-2312-4301-86a2-e0776a97eb97",
   "metadata": {},
   "outputs": [],
   "source": [
    "for row in session.execute('SELECT * FROM scrapper_app.product LIMIT 10000'):\n",
    "    print(row)"
   ]
  },
  {
   "cell_type": "code",
   "execution_count": null,
   "id": "6a09143a-c4fa-4b69-92bd-4acaafbe21d3",
   "metadata": {},
   "outputs": [],
   "source": []
  }
 ],
 "metadata": {
  "kernelspec": {
   "display_name": "Python 3 (ipykernel)",
   "language": "python",
   "name": "python3"
  },
  "language_info": {
   "codemirror_mode": {
    "name": "ipython",
    "version": 3
   },
   "file_extension": ".py",
   "mimetype": "text/x-python",
   "name": "python",
   "nbconvert_exporter": "python",
   "pygments_lexer": "ipython3",
   "version": "3.9.0"
  }
 },
 "nbformat": 4,
 "nbformat_minor": 5
}
