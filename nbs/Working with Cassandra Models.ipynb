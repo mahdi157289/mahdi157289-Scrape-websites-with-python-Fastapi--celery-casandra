{
 "cells": [
  {
   "cell_type": "code",
   "execution_count": 1,
   "id": "a15462ce-0d16-44fe-820a-427557f03a04",
   "metadata": {},
   "outputs": [
    {
     "name": "stdout",
     "output_type": "stream",
     "text": [
      "Requirement already satisfied: pickleshare in c:\\users\\bacca\\desktop\\scrape-websites-with-python-fastapi-celery-nosql\\v\\lib\\site-packages (0.7.5)\n",
      "Requirement already satisfied: pip in c:\\users\\bacca\\desktop\\scrape-websites-with-python-fastapi-celery-nosql\\v\\lib\\site-packages (25.0.1)\n"
     ]
    }
   ],
   "source": [
    "!pip install pickleshare\n",
    "!pip install --upgrade pip"
   ]
  },
  {
   "cell_type": "code",
   "execution_count": 2,
   "id": "973dc9ee-faad-491e-a1ad-42a044ac7f01",
   "metadata": {},
   "outputs": [
    {
     "name": "stdout",
     "output_type": "stream",
     "text": [
      "C:\\Users\\bacca\\Desktop\\Scrape-Websites-with-Python-FastAPI-Celery-NoSQL\\nbs\n",
      "C:\\Users\\bacca\\Desktop\\Scrape-Websites-with-Python-FastAPI-Celery-NoSQL\n"
     ]
    },
    {
     "data": {
      "text/plain": [
       "{'asin': 'B00123499t56ty7', 'title': 'Sample Product Title'}"
      ]
     },
     "execution_count": 2,
     "metadata": {},
     "output_type": "execute_result"
    }
   ],
   "source": [
    "!cd\n",
    "%cd /Users/bacca/Desktop/Scrape-Websites-with-Python-FastAPI-Celery-NoSQL/\n",
    "\n",
    "from app import db,crud, models \n",
    "session = db.get_session()\n",
    "\n",
    "data = models.data\n",
    "data"
   ]
  },
  {
   "cell_type": "code",
   "execution_count": 3,
   "id": "65b292b7-28de-4942-9ea2-b9f6caeec9f4",
   "metadata": {},
   "outputs": [
    {
     "data": {
      "text/plain": [
       "(Product(asin='B00123499t56ty7', title='Sample Product Title', Price_str='-100'),\n",
       " ProductScrapeEvent(uuid=UUID('6351198d-1ef5-11f0-b533-c0bfbe833233'), asin='B00123499t56ty7', title='Sample Product Title', Price_str='-100'))"
      ]
     },
     "execution_count": 3,
     "metadata": {},
     "output_type": "execute_result"
    }
   ],
   "source": [
    "crud.add_scrape_event(data,fresh=True)"
   ]
  },
  {
   "cell_type": "code",
   "execution_count": 4,
   "id": "785b1444-6675-4a88-b797-d346d7c6ce77",
   "metadata": {},
   "outputs": [
    {
     "data": {
      "text/plain": [
       "{'asin': 'B00123499t56ty7', 'title': 'Sample Product Title'}"
      ]
     },
     "execution_count": 4,
     "metadata": {},
     "output_type": "execute_result"
    }
   ],
   "source": [
    "data\n"
   ]
  },
  {
   "cell_type": "code",
   "execution_count": 5,
   "id": "95802e26-b139-4627-a188-c5d0b5981b62",
   "metadata": {},
   "outputs": [
    {
     "name": "stdout",
     "output_type": "stream",
     "text": [
      "SELECT * FROM scrapper_app.product LIMIT 10000\n"
     ]
    }
   ],
   "source": [
    "print(models.Product.objects().all())"
   ]
  },
  {
   "cell_type": "code",
   "execution_count": 6,
   "id": "64be3b61-a5ab-4971-8712-24458c6e186a",
   "metadata": {},
   "outputs": [
    {
     "name": "stdout",
     "output_type": "stream",
     "text": [
      "B00123499t56ty7\n",
      "B00123499t567\n",
      "testing123\n",
      "TESTING123D\n",
      "B001234567\n"
     ]
    }
   ],
   "source": [
    "asin = \"B00123499t56ty7\"\n",
    "for obj in models.Product.objects().all():\n",
    "    print(obj.asin)\n",
    "    "
   ]
  },
  {
   "cell_type": "code",
   "execution_count": 7,
   "id": "db1513f5-87b0-4857-b918-455f693fb4d7",
   "metadata": {},
   "outputs": [
    {
     "name": "stdout",
     "output_type": "stream",
     "text": [
      "Scrape events for  B00123499t56ty7\n",
      "ProductScrapeEvent  SELECT \"uuid\", \"title\", \"Price_str\" FROM scrapper_app.product_scrape_event WHERE \"asin\" = %(0)s LIMIT 10000 ALLOW FILTERING\n",
      "0 B00123499t56ty7 bc39db88-15f7-11f0-b094-888bb5c82bfe\n",
      "1 B00123499t56ty7 1a526251-1946-11f0-862c-c0bfbe833233\n",
      "2 B00123499t56ty7 e07a279a-1949-11f0-ab4f-c0bfbe833233\n",
      "3 B00123499t56ty7 5b896e39-1ad7-11f0-a841-c0bfbe833233\n",
      "4 B00123499t56ty7 c7c47053-1ef3-11f0-9f06-c0bfbe833233\n",
      "5 B00123499t56ty7 bfedfa5b-15f7-11f0-847f-888bb5c82bfe\n",
      "6 B00123499t56ty7 f913f4db-1a15-11f0-baf0-c0bfbe833233\n",
      "7 B00123499t56ty7 d07763eb-194a-11f0-bbe8-c0bfbe833233\n",
      "8 B00123499t56ty7 f8651b44-1a15-11f0-94ec-c0bfbe833233\n",
      "9 B00123499t56ty7 950ad617-193f-11f0-adf8-c0bfbe833233\n",
      "10 B00123499t56ty7 0bfd3115-1941-11f0-bc82-c0bfbe833233\n",
      "11 B00123499t56ty7 bec88f9b-15f7-11f0-9e2d-888bb5c82bfe\n",
      "12 B00123499t56ty7 bc0f0b43-193f-11f0-a941-c0bfbe833233\n",
      "13 B00123499t56ty7 3c36004a-1a17-11f0-b6b8-c0bfbe833233\n",
      "14 B00123499t56ty7 bf570324-15f7-11f0-b486-888bb5c82bfe\n",
      "15 B00123499t56ty7 9428db97-193f-11f0-9aeb-c0bfbe833233\n",
      "16 B00123499t56ty7 6351198d-1ef5-11f0-b533-c0bfbe833233\n",
      "17 B00123499t56ty7 0bfefe94-1ae3-11f0-b999-c0bfbe833233\n",
      "18 B00123499t56ty7 e72f152d-193d-11f0-a4e4-c0bfbe833233\n",
      "19 B00123499t56ty7 65ded29a-1ad7-11f0-9d52-c0bfbe833233\n",
      "20 B00123499t56ty7 3cafa955-1a17-11f0-9196-c0bfbe833233\n",
      "21 B00123499t56ty7 88138d62-1c2e-11f0-9fef-c0bfbe833233\n",
      "22 B00123499t56ty7 6460d7a0-1ad7-11f0-a452-c0bfbe833233\n",
      "23 B00123499t56ty7 c07a4c15-15f7-11f0-80a6-888bb5c82bfe\n",
      "24 B00123499t56ty7 582212bf-1619-11f0-9dcd-888bb5c82bfe\n",
      "25 B00123499t56ty7 92ee1c8e-193f-11f0-b316-c0bfbe833233\n",
      "26 B00123499t56ty7 cfea0d4a-194a-11f0-815f-c0bfbe833233\n",
      "27 B00123499t56ty7 95e19fcf-193f-11f0-a90a-c0bfbe833233\n",
      "28 B00123499t56ty7 d4fc987a-1a16-11f0-a968-c0bfbe833233\n",
      "29 B00123499t56ty7 a7a9b91c-1949-11f0-b850-c0bfbe833233\n",
      "30 B00123499t56ty7 92d4c9e9-1eec-11f0-874f-c0bfbe833233\n"
     ]
    }
   ],
   "source": [
    "if asin is not None:\n",
    "    print(f\"Scrape events for  {asin}\")\n",
    "    ps  = models.ProductScrapeEvent.objects.filter(asin=asin).allow_filtering()\n",
    "    print(f\"ProductScrapeEvent  {ps}\")\n",
    "    for i,obj in enumerate(ps):\n",
    "        print(i, obj.asin, obj.uuid)"
   ]
  },
  {
   "cell_type": "code",
   "execution_count": 8,
   "id": "66a90fc9-2312-4301-86a2-e0776a97eb97",
   "metadata": {},
   "outputs": [
    {
     "name": "stdout",
     "output_type": "stream",
     "text": [
      "{'asin': 'B00123499t56ty7', 'Price_str': '-100', 'title': 'Sample Product Title'}\n",
      "{'asin': 'B00123499t567', 'Price_str': '-100', 'title': 'Sample Product Title'}\n",
      "{'asin': 'testing123', 'Price_str': '-100', 'title': 'hello world'}\n",
      "{'asin': 'TESTING123D', 'Price_str': '-100', 'title': 'Mark ladsf'}\n",
      "{'asin': 'B001234567', 'Price_str': None, 'title': 'Sample Product Title'}\n"
     ]
    }
   ],
   "source": [
    "for row in session.execute('SELECT * FROM scrapper_app.product LIMIT 10000'):\n",
    "    print(row)"
   ]
  },
  {
   "cell_type": "code",
   "execution_count": null,
   "id": "6a09143a-c4fa-4b69-92bd-4acaafbe21d3",
   "metadata": {},
   "outputs": [],
   "source": []
  }
 ],
 "metadata": {
  "kernelspec": {
   "display_name": "Python 3 (ipykernel)",
   "language": "python",
   "name": "python3"
  },
  "language_info": {
   "codemirror_mode": {
    "name": "ipython",
    "version": 3
   },
   "file_extension": ".py",
   "mimetype": "text/x-python",
   "name": "python",
   "nbconvert_exporter": "python",
   "pygments_lexer": "ipython3",
   "version": "3.9.0"
  }
 },
 "nbformat": 4,
 "nbformat_minor": 5
}
