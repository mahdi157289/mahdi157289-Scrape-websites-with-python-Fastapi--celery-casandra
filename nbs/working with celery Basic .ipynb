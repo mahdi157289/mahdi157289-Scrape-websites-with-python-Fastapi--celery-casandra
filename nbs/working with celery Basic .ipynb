{
 "cells": [
  {
   "cell_type": "code",
   "execution_count": 1,
   "id": "4215a397-03fb-4b4a-af82-55442b4e2c3f",
   "metadata": {},
   "outputs": [
    {
     "name": "stdout",
     "output_type": "stream",
     "text": [
      "C:\\Users\\bacca\\Desktop\\Scrape-Websites-with-Python-FastAPI-Celery-NoSQL\\nbs\n",
      "C:\\Users\\bacca\\Desktop\\Scrape-Websites-with-Python-FastAPI-Celery-NoSQL\n"
     ]
    }
   ],
   "source": [
    "!cd\n",
    "%cd /Users/bacca/Desktop/Scrape-Websites-with-Python-FastAPI-Celery-NoSQL/"
   ]
  },
  {
   "cell_type": "code",
   "execution_count": 2,
   "id": "6e61f2e8-0ad8-45ef-b0f7-ebbafea3fb56",
   "metadata": {},
   "outputs": [],
   "source": [
    "from app.worker import random_task"
   ]
  },
  {
   "cell_type": "code",
   "execution_count": 3,
   "id": "b3a47768-04d6-4324-b538-dc42510eb9dd",
   "metadata": {},
   "outputs": [
    {
     "name": "stdout",
     "output_type": "stream",
     "text": [
      "Hello justin from Celery!\n"
     ]
    }
   ],
   "source": [
    "random_task(\"justin\")"
   ]
  },
  {
   "cell_type": "code",
   "execution_count": 4,
   "id": "600d09fb-9b7b-408f-97dc-715c81c00261",
   "metadata": {},
   "outputs": [
    {
     "data": {
      "text/plain": [
       "<AsyncResult: 89877246-3774-463b-8ba4-7be7aa2fa3a5>"
      ]
     },
     "execution_count": 4,
     "metadata": {},
     "output_type": "execute_result"
    }
   ],
   "source": [
    "random_task.delay(\"justin\")"
   ]
  },
  {
   "cell_type": "raw",
   "id": "67ca0cc6-3051-4a0f-90a0-23ee86e36c1a",
   "metadata": {},
   "source": [
    "for i in range(10):\n",
    " random_task.apply_async(args=(f\"justin-{i}\", ), countdown=10)"
   ]
  },
  {
   "cell_type": "code",
   "execution_count": 5,
   "id": "0c06d227-aa46-41b0-a5a0-44a9c4bbf178",
   "metadata": {},
   "outputs": [],
   "source": [
    "for i in range(10):\n",
    "    random_task.delay(\"justin\")"
   ]
  },
  {
   "cell_type": "code",
   "execution_count": null,
   "id": "c066c599-6dc0-4f1c-b0f6-a75424e40726",
   "metadata": {},
   "outputs": [],
   "source": []
  }
 ],
 "metadata": {
  "kernelspec": {
   "display_name": "Python 3 (ipykernel)",
   "language": "python",
   "name": "python3"
  },
  "language_info": {
   "codemirror_mode": {
    "name": "ipython",
    "version": 3
   },
   "file_extension": ".py",
   "mimetype": "text/x-python",
   "name": "python",
   "nbconvert_exporter": "python",
   "pygments_lexer": "ipython3",
   "version": "3.9.0"
  }
 },
 "nbformat": 4,
 "nbformat_minor": 5
}
